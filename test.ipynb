{
 "cells": [
  {
   "cell_type": "code",
   "execution_count": 7,
   "metadata": {},
   "outputs": [],
   "source": [
    "\n",
    "from configparser import ConfigParser\n",
    "\n",
    "def _get_api_key():\n",
    "    \"\"\"Fetch the API key from your configuration file.\n",
    "\n",
    "    Expects a configuration file named \"secrets.ini\" with structure:\n",
    "\n",
    "        [openweather]\n",
    "        api_key=<YOUR-OPENWEATHER-API-KEY>\n",
    "    \"\"\"\n",
    "    config = ConfigParser()\n",
    "    config.read(\"secrets.ini\")\n",
    "    return config[\"openweather\"][\"api_key\"]"
   ]
  },
  {
   "cell_type": "code",
   "execution_count": 8,
   "metadata": {},
   "outputs": [
    {
     "data": {
      "text/plain": [
       "'<813a7cbf189e8ed22967b3942c926f18>'"
      ]
     },
     "execution_count": 8,
     "metadata": {},
     "output_type": "execute_result"
    }
   ],
   "source": [
    "_get_api_key()"
   ]
  },
  {
   "cell_type": "code",
   "execution_count": 9,
   "metadata": {},
   "outputs": [
    {
     "data": {
      "text/plain": [
       "'new+delhi'"
      ]
     },
     "execution_count": 9,
     "metadata": {},
     "output_type": "execute_result"
    }
   ],
   "source": [
    "from urllib import parse\n",
    "parse.quote_plus(\"new delhi\")"
   ]
  },
  {
   "cell_type": "code",
   "execution_count": null,
   "metadata": {},
   "outputs": [],
   "source": []
  }
 ],
 "metadata": {
  "interpreter": {
   "hash": "9d8c4c1f35ad12fc02eebb6747643297bf2dc470c42a17ee31c0c4469f0f6c1e"
  },
  "kernelspec": {
   "display_name": "Python 3.8.5 ('base')",
   "language": "python",
   "name": "python3"
  },
  "language_info": {
   "codemirror_mode": {
    "name": "ipython",
    "version": 3
   },
   "file_extension": ".py",
   "mimetype": "text/x-python",
   "name": "python",
   "nbconvert_exporter": "python",
   "pygments_lexer": "ipython3",
   "version": "3.8.5"
  },
  "orig_nbformat": 4
 },
 "nbformat": 4,
 "nbformat_minor": 2
}
